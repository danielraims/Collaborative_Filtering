{
 "cells": [
  {
   "cell_type": "code",
   "execution_count": 1,
   "id": "5c8a7e72",
   "metadata": {},
   "outputs": [],
   "source": [
    "import numpy as np\n",
    "import seaborn as sns\n",
    "import matplotlib.pyplot as plt\n",
    "import os\n",
    "import pandas as pd"
   ]
  },
  {
   "cell_type": "code",
   "execution_count": 2,
   "id": "f2e46134",
   "metadata": {},
   "outputs": [
    {
     "data": {
      "text/plain": [
       "array([[  1. , 296. ,   5. ],\n",
       "       [  1. , 306. ,   3.5],\n",
       "       [  1. , 307. ,   5. ],\n",
       "       [  1. , 665. ,   5. ],\n",
       "       [  1. , 899. ,   3.5]])"
      ]
     },
     "execution_count": 2,
     "metadata": {},
     "output_type": "execute_result"
    }
   ],
   "source": [
    "path = '/var/autofs/misc/home/danielr/Downloads/AppliedMachineLearning/ml-25m'\n",
    "\n",
    "data = np.loadtxt(f'{path}//ratings.csv', skiprows=1, delimiter = ',')[:,:3]\n",
    "\n",
    "data[:5]"
   ]
  },
  {
   "cell_type": "code",
   "execution_count": 3,
   "id": "0e2c90c3",
   "metadata": {},
   "outputs": [
    {
     "name": "stdout",
     "output_type": "stream",
     "text": [
      "numbers of users: 162541\n",
      "numbers of movies: 59047\n"
     ]
    },
    {
     "data": {
      "text/plain": [
       "25000095"
      ]
     },
     "execution_count": 3,
     "metadata": {},
     "output_type": "execute_result"
    }
   ],
   "source": [
    "print(f'numbers of users: {len(set(data[:,0]))}')\n",
    "print(f'numbers of movies: {len(set(data[:,1]))}')\n",
    "len(data)"
   ]
  },
  {
   "cell_type": "markdown",
   "id": "978a1e31",
   "metadata": {},
   "source": [
    "### SPARSE TRAIN - TEST DATA"
   ]
  },
  {
   "cell_type": "code",
   "execution_count": 4,
   "id": "2e9b6d8a",
   "metadata": {},
   "outputs": [],
   "source": [
    "def get_sparse(data, train_size = 0.9):\n",
    "    '''get sparse train and test data'''\n",
    "    #Shuffle the data\n",
    "    np.random.shuffle(data)\n",
    "\n",
    "    split_point = train_size * len(data)\n",
    "    \n",
    "    #initialize all the data structure\n",
    "    # mapping from user to index\n",
    "    map_user_to_index = {}\n",
    "    map_index_to_user = []\n",
    "\n",
    "    # mapping from movie to index\n",
    "    map_movie_to_index = {}\n",
    "    map_index_to_movie = []\n",
    "    \n",
    "    # First build the mappings.\n",
    "    for user, movie, _ in data:\n",
    "        #Take care of the user data structure\n",
    "        if user not in map_user_to_index:\n",
    "            map_user_to_index[user] = len(map_index_to_user)\n",
    "            map_index_to_user.append(user)\n",
    "            \n",
    "            \n",
    "        #Take care of the movie data structure\n",
    "        if movie not in map_movie_to_index:\n",
    "            map_movie_to_index[movie]=len(map_index_to_movie)\n",
    "            map_index_to_movie.append(movie)\n",
    "  \n",
    "    #Initialize with empty list all the trainings data.\n",
    "    data_by_user_train = [[] for i in range(len(map_index_to_user))]\n",
    "    data_by_movie_train = [[] for i in range(len(map_index_to_movie))]\n",
    "    \n",
    "    #Initialize with empty list all the test data.\n",
    "    data_by_user_test = [[] for i in range(len(map_index_to_user))]\n",
    "    data_by_movie_test = [[] for i in range(len(map_index_to_movie))]\n",
    "\n",
    "    #create all the data structure using in a loop\n",
    "    for index, (user, movie, rating) in enumerate(data):\n",
    "        user_id = map_user_to_index[user]\n",
    "        movie_id = map_movie_to_index[movie]\n",
    "        if index < split_point:\n",
    "            # Insert into the sparse user and item training matrices.\n",
    "            data_by_user_train[user_id].append((movie_id, float(rating)))\n",
    "            data_by_movie_train[movie_id].append((user_id, float(rating)))\n",
    "        else:\n",
    "            # Insert into the sparse user and item test matrices.\n",
    "            data_by_user_test[user_id].append((movie_id, float(rating)))\n",
    "            data_by_movie_test[movie_id].append((user_id,float(rating)))\n",
    "            \n",
    "    return map_user_to_index,map_index_to_user,map_movie_to_index,map_index_to_movie,\\\n",
    "data_by_user_train,data_by_movie_train,data_by_user_test,data_by_movie_test\n"
   ]
  },
  {
   "cell_type": "code",
   "execution_count": 5,
   "id": "8d57ae2f",
   "metadata": {},
   "outputs": [],
   "source": [
    "map_user_to_index,map_index_to_user,map_movie_to_index,map_index_to_movie,\\\n",
    "data_by_user_train,data_by_movie_train,data_by_user_test,data_by_movie_test = get_sparse(data)"
   ]
  },
  {
   "cell_type": "code",
   "execution_count": 6,
   "id": "3837669d",
   "metadata": {},
   "outputs": [],
   "source": [
    "def plot_power_law(data_by_user, data_by_movie):\n",
    "    \"\"\"plot the power law of users and power law of movies\"\"\"\n",
    "    \n",
    "    # get the number of movie watched by each user\n",
    "    number_of_rating_by_user = [len(user) for user in data_by_user]\n",
    "    \n",
    "    # create the histogram of number_of_rating_by_user\n",
    "    count_occurences_by_user = np.bincount(number_of_rating_by_user)\n",
    "    \n",
    "    # get the number of movie watched by each user\n",
    "    number_of_rating_by_movie = [len(movie) for movie in data_by_movie]\n",
    "    \n",
    "    # create the histogram of number_of_rating_by_user\n",
    "    count_occurences_by_movie = np.bincount(number_of_rating_by_movie)\n",
    "    \n",
    "    # plot\n",
    "    sns.set_style(\"whitegrid\")\n",
    "    plt.scatter(x = range(len(count_occurences_by_user)), y = count_occurences_by_user, label = 'user', color = 'black')\n",
    "    plt.scatter(x = range(len(count_occurences_by_movie)), y = count_occurences_by_movie, label = 'movie', color = 'green')\n",
    "    plt.yscale('log')\n",
    "    plt.xscale('log')\n",
    "    plt.xlabel(\"Number of ratings\")\n",
    "    plt.ylabel(\"Frequences\")\n",
    "    plt.title('Power law for users & movies')\n",
    "    plt.savefig(\"powerlaw.pdf\", format=\"pdf\")\n",
    "    \n",
    "    "
   ]
  },
  {
   "cell_type": "code",
   "execution_count": 7,
   "id": "6f2bf552",
   "metadata": {},
   "outputs": [
    {
     "data": {
      "image/png": "[encoded data removed]",
      "text/plain": [
       "<Figure size 640x480 with 1 Axes>"
      ]
     },
     "metadata": {},
     "output_type": "display_data"
    }
   ],
   "source": [
    "plot_power_law(data_by_user_train, data_by_movie_train)"
   ]
  },
  {
   "cell_type": "code",
   "execution_count": 8,
   "id": "e85c014e",
   "metadata": {},
   "outputs": [],
   "source": [
    "import pickle\n",
    "def save_data(path, names, data):\n",
    "    folder_path = path\n",
    "    # Check if the folder exists, and if not, create it\n",
    "    if not os.path.exists(folder_path):\n",
    "        os.makedirs(folder_path)\n",
    "    for name, value in zip(names, data):\n",
    "        print(f'saving file: {name}')\n",
    "        with open(f'{path}/{name}.pickle', 'wb') as handle:\n",
    "            pickle.dump(value, handle, protocol=pickle.HIGHEST_PROTOCOL)"
   ]
  },
  {
   "cell_type": "code",
   "execution_count": 9,
   "id": "83771540",
   "metadata": {},
   "outputs": [
    {
     "data": {
      "image/png": "[encoded data removed]",
      "text/plain": [
       "<Figure size 640x480 with 1 Axes>"
      ]
     },
     "metadata": {},
     "output_type": "display_data"
    }
   ],
   "source": [
    "plt.hist(x  = data[:, 2])\n",
    "plt.title('rating distributions')\n",
    "plt.xlabel(\"ratings\")\n",
    "plt.ylabel(\"counts\")\n",
    "plt.savefig(\"ratingdistributions.pdf\", format=\"pdf\")"
   ]
  },
  {
   "cell_type": "markdown",
   "id": "a876b111",
   "metadata": {},
   "source": [
    "### Save Train"
   ]
  },
  {
   "cell_type": "code",
   "execution_count": 37,
   "id": "1d2b8609",
   "metadata": {},
   "outputs": [
    {
     "name": "stdout",
     "output_type": "stream",
     "text": [
      "saving file: map_user_to_index\n",
      "saving file: map_index_to_user\n",
      "saving file: map_movie_to_index\n",
      "saving file: map_index_to_movie\n",
      "saving file: data_by_user_train\n",
      "saving file: data_by_movie_train\n",
      "saving file: data_by_user_test\n",
      "saving file: data_by_movie_test\n",
      "saving file: movies_to_plot\n",
      "saving file: map_id_movies\n"
     ]
    }
   ],
   "source": [
    "names = ('map_user_to_index','map_index_to_user','map_movie_to_index','map_index_to_movie',\\\n",
    "'data_by_user_train','data_by_movie_train','data_by_user_test','data_by_movie_test', 'movies_to_plot', 'map_id_movies')\n",
    "value = get_sparse(data) + (movies_to_plot, map_id_movies)\n",
    "save_data('results//', names, value)"
   ]
  }
 ],
 "metadata": {
  "kernelspec": {
   "display_name": "Python 3 (ipykernel)",
   "language": "python",
   "name": "python3"
  },
  "language_info": {
   "codemirror_mode": {
    "name": "ipython",
    "version": 3
   },
   "file_extension": ".py",
   "mimetype": "text/x-python",
   "name": "python",
   "nbconvert_exporter": "python",
   "pygments_lexer": "ipython3",
   "version": "3.11.2"
  }
 },
 "nbformat": 4,
 "nbformat_minor": 5
}
